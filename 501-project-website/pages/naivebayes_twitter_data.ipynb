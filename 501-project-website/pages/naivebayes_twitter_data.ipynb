{
 "cells": [
  {
   "cell_type": "code",
   "execution_count": 1,
   "metadata": {},
   "outputs": [],
   "source": [
    "\n",
    "import pandas as pd\n",
    "import numpy as np\n",
    "import seaborn as sns\n",
    "import matplotlib.pyplot as plt\n",
    "from sklearn.feature_extraction.text import CountVectorizer\n",
    "import nltk \n",
    "import string\n",
    "import re\n",
    "get_ipython().run_line_magic('matplotlib', 'inline')\n",
    "\n",
    "\n",
    "# read in the data\n",
    "crimeusa_data = pd.read_csv('R_CRIMEUSA_API.csv')\n",
    "usacrime_data = pd.read_csv('R_USACRIME_API.csv')\n",
    "cleaned_tweet_data = pd.read_csv('cleaned_twitter_crimeusa_data_py.csv')\n",
    "\n",
    "#merge the two data frames\n",
    "tweet_data_crimeusa = pd.concat([crimeusa_data, usacrime_data], axis=0)\n",
    "tweet_data_crimeusa.head()\n",
    "\n",
    "#add cloumn label for the data frame as 'USACRIME'\n",
    "tweet_data_crimeusa['label'] = 'USA CRIME'\n",
    "#remove retweets\n",
    "tweet_data_crimusa = tweet_data_crimeusa[~tweet_data_crimeusa['text'].str.contains('RT')]\n",
    "\n",
    "#merge clean text column from cleaned tweet data with the tweet data\n",
    "tweet_data_crimeusa = pd.merge(tweet_data_crimeusa, cleaned_tweet_data, on='text', how='left')\n",
    "\n",
    "#drop the columns 'Tweet_tokenized','Tweet_without_stop_punct','Tweet_stemmed','Tweet_lemmatized' that are not needed \n",
    "tweet_data_crimeusa = tweet_data_crimeusa.drop(['Unnamed: 0_x','Unnamed: 0_y','text','Tweet_tokenized','Tweet_without_stop','Tweet_stemmed'], axis=1)\n",
    "\n",
    "#insert cloumn label and clean text column to the first two columns\n",
    "tweet_data_crimeusa.insert(0, 'label', tweet_data_crimeusa.pop('label'))\n",
    "tweet_data_crimeusa.insert(1, 'clean text', tweet_data_crimeusa.pop('clean text'))\n",
    "\n",
    "#rename the column 'clean text' to 'text'\n",
    "tweet_data_crimeusa = tweet_data_crimeusa.rename(columns={'clean text':'text'})\n",
    "\n",
    "#read fbi data\n",
    "fbi_data = pd.read_csv('R_FBI_API.csv')\n",
    "tweet_fbi_data = pd.read_csv('cleaned_twitter_fbi_data_py.csv')\n",
    "\n",
    "#add cloumn label for the data frame as 'USACRIME'\n",
    "fbi_data['label'] = 'FBI'\n",
    "\n",
    "#remove retweets\n",
    "fbi_data = fbi_data[~fbi_data['text'].str.contains('RT')]\n",
    "\n",
    "#merge clean text column from cleaned tweet data with the tweet data\n",
    "fbi_data = pd.merge(fbi_data, tweet_fbi_data, on='text', how='left')\n",
    "\n",
    "#drop the columns 'Tweet_tokenized','Tweet_without_stop_punct','Tweet_stemmed','Tweet_lemmatized' that are not needed\n",
    "fbi_data = fbi_data.drop(['Unnamed: 0_x','Unnamed: 0_y','text','Tweet_tokenized','Tweet_without_stop','Tweet_stemmed'], axis=1)\n",
    "\n",
    "#insert cloumn label and clean text column to the first two columns\n",
    "fbi_data.insert(0, 'label', fbi_data.pop('label'))\n",
    "fbi_data.insert(1, 'clean text', fbi_data.pop('clean text'))\n",
    "\n",
    "#rename the column 'clean text' to 'text'\n",
    "fbi_data = fbi_data.rename(columns={'clean text':'text'})\n",
    "\n",
    "#merge the two data frames\n",
    "tweet_data = pd.concat([tweet_data_crimeusa, fbi_data], axis=0)\n",
    "\n",
    "#remove tweet lemmalized column before exporting the clean tweet data to csv\n",
    "#tweet_data = tweet_data.drop(['Tweet_lemmatized'], axis=1)\n"
   ]
  },
  {
   "cell_type": "code",
   "execution_count": 2,
   "metadata": {},
   "outputs": [],
   "source": [
    "##import packages \n",
    "\n",
    "import pandas as pd\n",
    "import numpy as np\n",
    "from sklearn.feature_extraction.text import CountVectorizer, TfidfVectorizer\n",
    "from sklearn.metrics import confusion_matrix\n",
    "from sklearn.metrics import classification_report, accuracy_score\n",
    "import matplotlib.pyplot as plt\n",
    "from sklearn.tree import plot_tree\n",
    "from sklearn.utils import resample\n",
    "\n",
    "from sklearn.model_selection import cross_val_score\n",
    "from sklearn.model_selection import cross_val_predict\n",
    "from sklearn.model_selection import train_test_split\n",
    "import seaborn as sns\n",
    "from sklearn.tree import DecisionTreeClassifier\n",
    "from sklearn import metrics\n",
    "from wordcloud import WordCloud, STOPWORDS"
   ]
  },
  {
   "cell_type": "code",
   "execution_count": 3,
   "metadata": {},
   "outputs": [
    {
     "name": "stderr",
     "output_type": "stream",
     "text": [
      "/var/folders/yc/mphc0tn16cx2tqhspm90bcg80000gn/T/ipykernel_6288/538740603.py:8: SettingWithCopyWarning: \n",
      "A value is trying to be set on a copy of a slice from a DataFrame.\n",
      "Try using .loc[row_indexer,col_indexer] = value instead\n",
      "\n",
      "See the caveats in the documentation: https://pandas.pydata.org/pandas-docs/stable/user_guide/indexing.html#returning-a-view-versus-a-copy\n",
      "  df['final_tweets']=final_tweets\n"
     ]
    },
    {
     "data": {
      "text/plain": [
       "Text(0, 0.5, 'Frequency')"
      ]
     },
     "execution_count": 3,
     "metadata": {},
     "output_type": "execute_result"
    },
    {
     "data": {
      "image/png": "[encoded data removed]",
      "text/plain": [
       "<Figure size 1008x576 with 1 Axes>"
      ]
     },
     "metadata": {
      "needs_background": "light"
     },
     "output_type": "display_data"
    }
   ],
   "source": [
    "#from the cleaned tweet data, we will use the text lemmatized and label columns for naiye bayes\n",
    "df =tweet_data[['label','Tweet_lemmatized']]\n",
    "\n",
    "#remove all the punctuation from text lemmatized column\n",
    "final_tweets=[str(i).replace(\",\",\"\").replace(\"[\",\"\").replace(\"]\",\"\").replace(\"'\",\"\") for i in df['Tweet_lemmatized']]\n",
    "\n",
    "#add the final tweets to the data frame\n",
    "df['final_tweets']=final_tweets\n",
    "\n",
    "#remove text lemmatized column\n",
    "df=df.drop('Tweet_lemmatized',axis=1)\n",
    "\n",
    "\n",
    "#counting number of fbi and crimeusa data\n",
    "ax = df['label'].value_counts().plot(kind='bar',\n",
    "                                    figsize=(14,8),\n",
    "                                    title=\"Number for labels\")\n",
    "ax.set_xlabel(\"Labels\")\n",
    "ax.set_ylabel(\"Frequency\")\n"
   ]
  },
  {
   "cell_type": "code",
   "execution_count": 4,
   "metadata": {},
   "outputs": [
    {
     "name": "stderr",
     "output_type": "stream",
     "text": [
      "/Users/chaitanyashekar/opt/anaconda3/lib/python3.9/site-packages/sklearn/utils/deprecation.py:87: FutureWarning: Function get_feature_names is deprecated; get_feature_names is deprecated in 1.0 and will be removed in 1.2. Please use get_feature_names_out instead.\n",
      "  warnings.warn(msg, category=FutureWarning)\n"
     ]
    },
    {
     "data": {
      "text/html": [
       "<div>\n",
       "<style scoped>\n",
       "    .dataframe tbody tr th:only-of-type {\n",
       "        vertical-align: middle;\n",
       "    }\n",
       "\n",
       "    .dataframe tbody tr th {\n",
       "        vertical-align: top;\n",
       "    }\n",
       "\n",
       "    .dataframe thead th {\n",
       "        text-align: right;\n",
       "    }\n",
       "</style>\n",
       "<table border=\"1\" class=\"dataframe\">\n",
       "  <thead>\n",
       "    <tr style=\"text-align: right;\">\n",
       "      <th></th>\n",
       "      <th>aa</th>\n",
       "      <th>aasga</th>\n",
       "      <th>abbott</th>\n",
       "      <th>abc</th>\n",
       "      <th>abduction</th>\n",
       "      <th>abetting</th>\n",
       "      <th>ability</th>\n",
       "      <th>abl</th>\n",
       "      <th>abolish</th>\n",
       "      <th>aborted</th>\n",
       "      <th>...</th>\n",
       "      <th>日本</th>\n",
       "      <th>東京</th>\n",
       "      <th>汚職</th>\n",
       "      <th>犯罪</th>\n",
       "      <th>皇族</th>\n",
       "      <th>虚偽公文書作成</th>\n",
       "      <th>詐欺</th>\n",
       "      <th>𝗕𝗶𝗱𝗲𝗻</th>\n",
       "      <th>𝗛𝘂𝗻𝘁𝗲𝗿</th>\n",
       "      <th>LABEL</th>\n",
       "    </tr>\n",
       "  </thead>\n",
       "  <tbody>\n",
       "    <tr>\n",
       "      <th>0</th>\n",
       "      <td>0</td>\n",
       "      <td>0</td>\n",
       "      <td>0</td>\n",
       "      <td>0</td>\n",
       "      <td>0</td>\n",
       "      <td>0</td>\n",
       "      <td>0</td>\n",
       "      <td>0</td>\n",
       "      <td>0</td>\n",
       "      <td>0</td>\n",
       "      <td>...</td>\n",
       "      <td>0</td>\n",
       "      <td>0</td>\n",
       "      <td>0</td>\n",
       "      <td>0</td>\n",
       "      <td>0</td>\n",
       "      <td>0</td>\n",
       "      <td>0</td>\n",
       "      <td>0</td>\n",
       "      <td>0</td>\n",
       "      <td>0</td>\n",
       "    </tr>\n",
       "    <tr>\n",
       "      <th>1</th>\n",
       "      <td>0</td>\n",
       "      <td>0</td>\n",
       "      <td>0</td>\n",
       "      <td>0</td>\n",
       "      <td>0</td>\n",
       "      <td>0</td>\n",
       "      <td>0</td>\n",
       "      <td>0</td>\n",
       "      <td>0</td>\n",
       "      <td>0</td>\n",
       "      <td>...</td>\n",
       "      <td>0</td>\n",
       "      <td>0</td>\n",
       "      <td>0</td>\n",
       "      <td>0</td>\n",
       "      <td>0</td>\n",
       "      <td>0</td>\n",
       "      <td>0</td>\n",
       "      <td>0</td>\n",
       "      <td>0</td>\n",
       "      <td>0</td>\n",
       "    </tr>\n",
       "    <tr>\n",
       "      <th>2</th>\n",
       "      <td>0</td>\n",
       "      <td>0</td>\n",
       "      <td>0</td>\n",
       "      <td>0</td>\n",
       "      <td>0</td>\n",
       "      <td>0</td>\n",
       "      <td>0</td>\n",
       "      <td>0</td>\n",
       "      <td>0</td>\n",
       "      <td>0</td>\n",
       "      <td>...</td>\n",
       "      <td>0</td>\n",
       "      <td>0</td>\n",
       "      <td>0</td>\n",
       "      <td>0</td>\n",
       "      <td>0</td>\n",
       "      <td>0</td>\n",
       "      <td>0</td>\n",
       "      <td>0</td>\n",
       "      <td>0</td>\n",
       "      <td>0</td>\n",
       "    </tr>\n",
       "    <tr>\n",
       "      <th>3</th>\n",
       "      <td>0</td>\n",
       "      <td>0</td>\n",
       "      <td>0</td>\n",
       "      <td>0</td>\n",
       "      <td>0</td>\n",
       "      <td>0</td>\n",
       "      <td>0</td>\n",
       "      <td>0</td>\n",
       "      <td>0</td>\n",
       "      <td>0</td>\n",
       "      <td>...</td>\n",
       "      <td>0</td>\n",
       "      <td>0</td>\n",
       "      <td>0</td>\n",
       "      <td>0</td>\n",
       "      <td>0</td>\n",
       "      <td>0</td>\n",
       "      <td>0</td>\n",
       "      <td>0</td>\n",
       "      <td>0</td>\n",
       "      <td>0</td>\n",
       "    </tr>\n",
       "    <tr>\n",
       "      <th>4</th>\n",
       "      <td>0</td>\n",
       "      <td>0</td>\n",
       "      <td>0</td>\n",
       "      <td>0</td>\n",
       "      <td>0</td>\n",
       "      <td>0</td>\n",
       "      <td>0</td>\n",
       "      <td>0</td>\n",
       "      <td>0</td>\n",
       "      <td>0</td>\n",
       "      <td>...</td>\n",
       "      <td>0</td>\n",
       "      <td>0</td>\n",
       "      <td>0</td>\n",
       "      <td>0</td>\n",
       "      <td>0</td>\n",
       "      <td>0</td>\n",
       "      <td>0</td>\n",
       "      <td>0</td>\n",
       "      <td>0</td>\n",
       "      <td>0</td>\n",
       "    </tr>\n",
       "  </tbody>\n",
       "</table>\n",
       "<p>5 rows × 4577 columns</p>\n",
       "</div>"
      ],
      "text/plain": [
       "   aa  aasga  abbott  abc  abduction  abetting  ability  abl  abolish  \\\n",
       "0   0      0       0    0          0         0        0    0        0   \n",
       "1   0      0       0    0          0         0        0    0        0   \n",
       "2   0      0       0    0          0         0        0    0        0   \n",
       "3   0      0       0    0          0         0        0    0        0   \n",
       "4   0      0       0    0          0         0        0    0        0   \n",
       "\n",
       "   aborted  ...  日本  東京  汚職  犯罪  皇族  虚偽公文書作成  詐欺  𝗕𝗶𝗱𝗲𝗻  𝗛𝘂𝗻𝘁𝗲𝗿  LABEL  \n",
       "0        0  ...   0   0   0   0   0        0   0      0       0      0  \n",
       "1        0  ...   0   0   0   0   0        0   0      0       0      0  \n",
       "2        0  ...   0   0   0   0   0        0   0      0       0      0  \n",
       "3        0  ...   0   0   0   0   0        0   0      0       0      0  \n",
       "4        0  ...   0   0   0   0   0        0   0      0       0      0  \n",
       "\n",
       "[5 rows x 4577 columns]"
      ]
     },
     "execution_count": 4,
     "metadata": {},
     "output_type": "execute_result"
    }
   ],
   "source": [
    "# Separate majority and minority classes\n",
    "df_majority = df[df.label=='FBI']\n",
    "df_minority = df[df.label=='USA CRIME']\n",
    "\n",
    "#downsample majority class\n",
    "# Downsample majority class\n",
    "df_majority_downsampled = resample(df_majority, \n",
    "                                 replace=False,    # sample without replacement\n",
    "                                 n_samples=len(df_minority),     # to match minority class\n",
    "                                 random_state=123) # reproducible results\n",
    "\n",
    "# Combine minority class with downsampled majority class\n",
    "df_downsampled = pd.concat([df_majority_downsampled, df_minority])\n",
    "\n",
    "\n",
    "# Display new class counts\n",
    "df_downsampled.label.value_counts()\n",
    "X=df_downsampled['final_tweets'].values\n",
    "y=df_downsampled['label'].values\n",
    "\n",
    "#label encoding\n",
    "from sklearn.preprocessing import LabelEncoder\n",
    "labelencoder = LabelEncoder()\n",
    "y = labelencoder.fit_transform(y)\n",
    "\n",
    "#countvectorizer\n",
    "import random as rd\n",
    "count_vectorizer_content=CountVectorizer(input='content',\n",
    "                        stop_words='english'\n",
    "                        #max_features=100\n",
    "                        )\n",
    "\n",
    "#scale the data\n",
    "fit=count_vectorizer_content.fit_transform(X)\n",
    "column_names=count_vectorizer_content.get_feature_names()\n",
    "dataframe_content=pd.DataFrame(fit.toarray(),columns=column_names)\n",
    "dataframe_content['LABEL'] = pd.DataFrame(y,columns=['LABEL'])\n",
    "dataframe_content.head()"
   ]
  },
  {
   "cell_type": "code",
   "execution_count": 5,
   "metadata": {},
   "outputs": [
    {
     "data": {
      "text/plain": [
       "dict_values([698, 698])"
      ]
     },
     "execution_count": 5,
     "metadata": {},
     "output_type": "execute_result"
    }
   ],
   "source": [
    "#split the data into train and test\n",
    "rd.seed(1993)\n",
    "TrainDF, TestDF = train_test_split(dataframe_content, test_size=0.2)\n",
    "TrainLabels=TrainDF[\"LABEL\"]\n",
    "TestLabels=TestDF[\"LABEL\"]\n",
    "\n",
    "TrainDF = TrainDF.drop([\"LABEL\"], axis=1)\n",
    "TestDF = TestDF.drop([\"LABEL\"], axis=1)\n",
    "\n",
    "from collections import Counter\n",
    "Counter(y).keys()\n",
    "Counter(y).values()"
   ]
  },
  {
   "cell_type": "code",
   "execution_count": 6,
   "metadata": {},
   "outputs": [
    {
     "name": "stdout",
     "output_type": "stream",
     "text": [
      "              precision    recall  f1-score   support\n",
      "\n",
      "           0       1.00      0.87      0.93       142\n",
      "           1       0.88      1.00      0.94       138\n",
      "\n",
      "    accuracy                           0.93       280\n",
      "   macro avg       0.94      0.93      0.93       280\n",
      "weighted avg       0.94      0.93      0.93       280\n",
      "\n"
     ]
    },
    {
     "data": {
      "image/png": "[encoded data removed]",
      "text/plain": [
       "<Figure size 432x288 with 2 Axes>"
      ]
     },
     "metadata": {
      "needs_background": "light"
     },
     "output_type": "display_data"
    }
   ],
   "source": [
    " #NAIVE BAYES MODEL 1\n",
    "from sklearn.naive_bayes import MultinomialNB\n",
    "from sklearn import metrics\n",
    "from sklearn.metrics import confusion_matrix\n",
    "\n",
    "Model_NB_1= MultinomialNB(alpha = 1)\n",
    "\n",
    "NB1=Model_NB_1.fit(TrainDF, TrainLabels)\n",
    "Preds_1 = Model_NB_1.predict(TestDF)\n",
    "Pred_Prob = Model_NB_1.predict_proba(TestDF)\n",
    "print(metrics.classification_report(TestLabels, Preds_1))\n",
    "cnf_matrix1 = confusion_matrix(TestLabels, Preds_1)\n",
    "\n",
    "##Visualise Confusion Matrix\n",
    "labels = ['FBI', 'USA CRIME']\n",
    "ax1=plt.subplot()\n",
    "sns.heatmap(confusion_matrix(TestLabels, Preds_1), annot=True, fmt='g', ax=ax1)\n",
    "# labels, title and ticks\n",
    "ax1.set_xlabel('Predicted labels');ax1.set_ylabel('True labels')\n",
    "ax1.set_title('Confusion Matrix'); \n",
    "ax1.xaxis.set_ticklabels(labels); ax1.yaxis.set_ticklabels(labels)\n",
    "plt.show()\n",
    "plt.close()\n"
   ]
  },
  {
   "cell_type": "code",
   "execution_count": 7,
   "metadata": {},
   "outputs": [
    {
     "name": "stdout",
     "output_type": "stream",
     "text": [
      "              precision    recall  f1-score   support\n",
      "\n",
      "           0       0.99      0.89      0.94       142\n",
      "           1       0.90      0.99      0.94       138\n",
      "\n",
      "    accuracy                           0.94       280\n",
      "   macro avg       0.94      0.94      0.94       280\n",
      "weighted avg       0.94      0.94      0.94       280\n",
      "\n"
     ]
    },
    {
     "data": {
      "image/png": "[encoded data removed]",
      "text/plain": [
       "<Figure size 432x288 with 2 Axes>"
      ]
     },
     "metadata": {
      "needs_background": "light"
     },
     "output_type": "display_data"
    }
   ],
   "source": [
    "#NAIVE BAYES MODEL 2\n",
    "Model_NB_2= MultinomialNB(alpha =5)\n",
    "\n",
    "NB2=Model_NB_2.fit(TrainDF, TrainLabels)\n",
    "Preds_2 = Model_NB_2.predict(TestDF)\n",
    "Pred_Prob_2 = Model_NB_2.predict_proba(TestDF)\n",
    "print(metrics.classification_report(TestLabels, Preds_2))\n",
    "cnf_matrix1 = confusion_matrix(TestLabels, Preds_2)\n",
    "\n",
    "##Visualise Confusion Matrix\n",
    "labels = ['FBI', 'USA CRIME']\n",
    "ax1=plt.subplot()\n",
    "sns.heatmap(confusion_matrix(TestLabels, Preds_2), annot=True, fmt='g', ax=ax1)\n",
    "\n",
    "# labels, title and ticks\n",
    "ax1.set_xlabel('Predicted labels');ax1.set_ylabel('True labels')\n",
    "ax1.set_title('Confusion Matrix'); \n",
    "ax1.xaxis.set_ticklabels(labels); ax1.yaxis.set_ticklabels(labels)\n",
    "plt.show()\n",
    "plt.close()"
   ]
  },
  {
   "cell_type": "code",
   "execution_count": 8,
   "metadata": {},
   "outputs": [
    {
     "name": "stdout",
     "output_type": "stream",
     "text": [
      "              precision    recall  f1-score   support\n",
      "\n",
      "           0       0.97      0.96      0.96       142\n",
      "           1       0.96      0.97      0.96       138\n",
      "\n",
      "    accuracy                           0.96       280\n",
      "   macro avg       0.96      0.96      0.96       280\n",
      "weighted avg       0.96      0.96      0.96       280\n",
      "\n"
     ]
    },
    {
     "name": "stderr",
     "output_type": "stream",
     "text": [
      "/Users/chaitanyashekar/opt/anaconda3/lib/python3.9/site-packages/sklearn/naive_bayes.py:555: UserWarning: alpha too small will result in numeric errors, setting alpha = 1.0e-10\n",
      "  warnings.warn(\n"
     ]
    },
    {
     "data": {
      "image/png": "[encoded data removed]",
      "text/plain": [
       "<Figure size 432x288 with 2 Axes>"
      ]
     },
     "metadata": {
      "needs_background": "light"
     },
     "output_type": "display_data"
    }
   ],
   "source": [
    "#NAIVE BAYES MODEL 3\n",
    "Model_NB_3= MultinomialNB(alpha =0)\n",
    "\n",
    "NB3=Model_NB_3.fit(TrainDF, TrainLabels)\n",
    "Preds_3 = Model_NB_3.predict(TestDF)\n",
    "Pred_Prob_3 = Model_NB_3.predict_proba(TestDF)\n",
    "print(metrics.classification_report(TestLabels, Preds_3))\n",
    "cnf_matrix1 = confusion_matrix(TestLabels, Preds_3)\n",
    "\n",
    "##Visualise Confusion Matrix\n",
    "labels = ['FBI', 'USA CRIME']\n",
    "ax1=plt.subplot()\n",
    "sns.heatmap(confusion_matrix(TestLabels, Preds_3), annot=True, fmt='g', ax=ax1);\n",
    "\n",
    "# labels, title and ticks\n",
    "ax1.set_xlabel('Predicted labels');ax1.set_ylabel('True labels'); \n",
    "ax1.set_title('Confusion Matrix'); \n",
    "ax1.xaxis.set_ticklabels(labels); ax1.yaxis.set_ticklabels(labels);\n",
    "plt.show()\n",
    "plt.close()\n"
   ]
  },
  {
   "cell_type": "code",
   "execution_count": null,
   "metadata": {},
   "outputs": [],
   "source": []
  }
 ],
 "metadata": {
  "kernelspec": {
   "display_name": "Python 3.9.12 ('base')",
   "language": "python",
   "name": "python3"
  },
  "language_info": {
   "codemirror_mode": {
    "name": "ipython",
    "version": 3
   },
   "file_extension": ".py",
   "mimetype": "text/x-python",
   "name": "python",
   "nbconvert_exporter": "python",
   "pygments_lexer": "ipython3",
   "version": "3.9.12"
  },
  "orig_nbformat": 4,
  "vscode": {
   "interpreter": {
    "hash": "24ba46beb313b9555178920ef28f4f148da0f98d1924e88576847d16eb21e478"
   }
  }
 },
 "nbformat": 4,
 "nbformat_minor": 2
}
