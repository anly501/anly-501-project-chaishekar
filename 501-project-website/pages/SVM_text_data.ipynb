{
 "cells": [
  {
   "cell_type": "markdown",
   "metadata": {},
   "source": [
    "**SNM FOR LABELLED TEXT DATA**"
   ]
  },
  {
   "cell_type": "markdown",
   "metadata": {},
   "source": [
    "**IMPORT LIBRARIES**"
   ]
  },
  {
   "cell_type": "code",
   "execution_count": 99,
   "metadata": {},
   "outputs": [],
   "source": [
    "import pandas as pd\n",
    "import numpy as np\n",
    "from sklearn.feature_extraction.text import CountVectorizer, TfidfVectorizer\n",
    "from sklearn.metrics import confusion_matrix\n",
    "from sklearn.metrics import classification_report, accuracy_score\n",
    "import matplotlib.pyplot as plt\n",
    "from sklearn.tree import plot_tree\n",
    "from sklearn.utils import resample\n",
    "\n",
    "import warnings\n",
    "warnings.filterwarnings('ignore')\n",
    "\n",
    "from sklearn.model_selection import cross_val_score\n",
    "from sklearn.model_selection import cross_val_predict\n",
    "from sklearn.model_selection import train_test_split\n",
    "from sklearn.svm import SVC\n",
    "from sklearn.model_selection import GridSearchCV\n",
    "from sklearn.model_selection import learning_curve\n",
    "import seaborn as sns\n",
    "from sklearn.tree import DecisionTreeClassifier\n",
    "from sklearn import metrics\n",
    "from wordcloud import WordCloud, STOPWORDS"
   ]
  },
  {
   "cell_type": "markdown",
   "metadata": {},
   "source": [
    "**ABOUT THE DATA**\n",
    "\n",
    "The text data is identical to the one used in Naive Bayes. The label text data is derived from the Twitter APIs for #FBI and #USACRIME. The hashtags #USACRIME and #CRIMEUSA are used interchangeably on Twitter to collect data about the use of hostages, as both serve the same purpose. \n"
   ]
  },
  {
   "cell_type": "code",
   "execution_count": 100,
   "metadata": {},
   "outputs": [],
   "source": [
    "# READ THE DATA\n",
    "crimeusa_data = pd.read_csv('R_CRIMEUSA_API.csv')\n",
    "usacrime_data = pd.read_csv('R_USACRIME_API.csv')\n",
    "cleaned_tweet_data = pd.read_csv('cleaned_twitter_crimeusa_data_py.csv')\n",
    "fbi_data = pd.read_csv('R_FBI_API.csv')\n",
    "tweet_fbi_data = pd.read_csv('cleaned_twitter_fbi_data_py.csv')\n"
   ]
  },
  {
   "cell_type": "markdown",
   "metadata": {},
   "source": [
    "**DATA CLEANING**\n",
    "\n",
    "FBI and USA CRIME datasets are combined into one. To assess #crime, the data is purified by deleting all other columns from the dataset, leaving only the text column. Throughout this cleaning operation, Tokenization from the NLTK library and Countvectorizer from the scikit-learn library are both employed.\n",
    "\n",
    "The text lemmatization is used for the subsequent step after the data has been cleaned. The technique of collecting together the various inflected forms of a word so that they can be studied as a single item is known as lemmatization. Lemmatization is similar to stemming in that it adds context to words. As a result, it connects words with similar meanings to a single word."
   ]
  },
  {
   "cell_type": "code",
   "execution_count": 101,
   "metadata": {},
   "outputs": [
    {
     "data": {
      "text/html": [
       "<div>\n",
       "<style scoped>\n",
       "    .dataframe tbody tr th:only-of-type {\n",
       "        vertical-align: middle;\n",
       "    }\n",
       "\n",
       "    .dataframe tbody tr th {\n",
       "        vertical-align: top;\n",
       "    }\n",
       "\n",
       "    .dataframe thead th {\n",
       "        text-align: right;\n",
       "    }\n",
       "</style>\n",
       "<table border=\"1\" class=\"dataframe\">\n",
       "  <thead>\n",
       "    <tr style=\"text-align: right;\">\n",
       "      <th></th>\n",
       "      <th>label</th>\n",
       "      <th>text</th>\n",
       "      <th>favorited</th>\n",
       "      <th>favoriteCount</th>\n",
       "      <th>replyToSN</th>\n",
       "      <th>created</th>\n",
       "      <th>truncated</th>\n",
       "      <th>replyToSID</th>\n",
       "      <th>id</th>\n",
       "      <th>replyToUID</th>\n",
       "      <th>statusSource</th>\n",
       "      <th>screenName</th>\n",
       "      <th>retweetCount</th>\n",
       "      <th>isRetweet</th>\n",
       "      <th>retweeted</th>\n",
       "      <th>longitude</th>\n",
       "      <th>latitude</th>\n",
       "      <th>Tweet_lemmatized</th>\n",
       "    </tr>\n",
       "  </thead>\n",
       "  <tbody>\n",
       "    <tr>\n",
       "      <th>0</th>\n",
       "      <td>USA CRIME</td>\n",
       "      <td>Onlyrockradio Donate tiorr internet radio supp...</td>\n",
       "      <td>False</td>\n",
       "      <td>1</td>\n",
       "      <td>Only_rock_radio</td>\n",
       "      <td>2022-10-10 21:56:24</td>\n",
       "      <td>True</td>\n",
       "      <td>1.579587e+18</td>\n",
       "      <td>1579591706663878656</td>\n",
       "      <td>4.913321e+09</td>\n",
       "      <td>&lt;a href=\"https://mobile.twitter.com\" rel=\"nofo...</td>\n",
       "      <td>SceneCleaners</td>\n",
       "      <td>0</td>\n",
       "      <td>False</td>\n",
       "      <td>False</td>\n",
       "      <td>NaN</td>\n",
       "      <td>NaN</td>\n",
       "      <td>['onlyrockradio', 'donate', 'tiorr', 'internet...</td>\n",
       "    </tr>\n",
       "    <tr>\n",
       "      <th>1</th>\n",
       "      <td>USA CRIME</td>\n",
       "      <td>Enjoy exciting accounts of realism from the pe...</td>\n",
       "      <td>False</td>\n",
       "      <td>0</td>\n",
       "      <td>NaN</td>\n",
       "      <td>2022-10-10 21:09:40</td>\n",
       "      <td>True</td>\n",
       "      <td>NaN</td>\n",
       "      <td>1579579945655087104</td>\n",
       "      <td>NaN</td>\n",
       "      <td>&lt;a href=\"https://mobile.twitter.com\" rel=\"nofo...</td>\n",
       "      <td>LaydenRobinson</td>\n",
       "      <td>0</td>\n",
       "      <td>False</td>\n",
       "      <td>False</td>\n",
       "      <td>NaN</td>\n",
       "      <td>NaN</td>\n",
       "      <td>['enjoy', 'exciting', 'account', 'realism', 'p...</td>\n",
       "    </tr>\n",
       "    <tr>\n",
       "      <th>2</th>\n",
       "      <td>USA CRIME</td>\n",
       "      <td>Metaverse Opinion amp Politics USA Trending Cr...</td>\n",
       "      <td>False</td>\n",
       "      <td>0</td>\n",
       "      <td>NaN</td>\n",
       "      <td>2022-10-10 20:21:00</td>\n",
       "      <td>True</td>\n",
       "      <td>NaN</td>\n",
       "      <td>1579567695825190917</td>\n",
       "      <td>NaN</td>\n",
       "      <td>&lt;a href=\"https://mobile.twitter.com\" rel=\"nofo...</td>\n",
       "      <td>MetaversePosts</td>\n",
       "      <td>0</td>\n",
       "      <td>False</td>\n",
       "      <td>False</td>\n",
       "      <td>NaN</td>\n",
       "      <td>NaN</td>\n",
       "      <td>['metaverse', 'opinion', 'amp', 'politics', 'u...</td>\n",
       "    </tr>\n",
       "    <tr>\n",
       "      <th>3</th>\n",
       "      <td>USA CRIME</td>\n",
       "      <td>Someone in Alabama ought to seriously question...</td>\n",
       "      <td>False</td>\n",
       "      <td>0</td>\n",
       "      <td>NaN</td>\n",
       "      <td>2022-10-10 18:56:52</td>\n",
       "      <td>True</td>\n",
       "      <td>NaN</td>\n",
       "      <td>1579546522144112642</td>\n",
       "      <td>NaN</td>\n",
       "      <td>&lt;a href=\"http://twitter.com/#!/download/ipad\" ...</td>\n",
       "      <td>AlwaysVoteTruth</td>\n",
       "      <td>0</td>\n",
       "      <td>False</td>\n",
       "      <td>False</td>\n",
       "      <td>NaN</td>\n",
       "      <td>NaN</td>\n",
       "      <td>['someone', 'alabama', 'ought', 'seriously', '...</td>\n",
       "    </tr>\n",
       "    <tr>\n",
       "      <th>4</th>\n",
       "      <td>USA CRIME</td>\n",
       "      <td>DeanPreston instead whining about USA blueange...</td>\n",
       "      <td>False</td>\n",
       "      <td>0</td>\n",
       "      <td>DeanPreston</td>\n",
       "      <td>2022-10-10 15:46:33</td>\n",
       "      <td>True</td>\n",
       "      <td>NaN</td>\n",
       "      <td>1579498631153221634</td>\n",
       "      <td>5.924374e+07</td>\n",
       "      <td>&lt;a href=\"http://twitter.com/download/iphone\" r...</td>\n",
       "      <td>JohnnyU31776738</td>\n",
       "      <td>0</td>\n",
       "      <td>False</td>\n",
       "      <td>False</td>\n",
       "      <td>NaN</td>\n",
       "      <td>NaN</td>\n",
       "      <td>['deanpreston', 'instead', 'whining', 'usa', '...</td>\n",
       "    </tr>\n",
       "  </tbody>\n",
       "</table>\n",
       "</div>"
      ],
      "text/plain": [
       "       label                                               text  favorited  \\\n",
       "0  USA CRIME  Onlyrockradio Donate tiorr internet radio supp...      False   \n",
       "1  USA CRIME  Enjoy exciting accounts of realism from the pe...      False   \n",
       "2  USA CRIME  Metaverse Opinion amp Politics USA Trending Cr...      False   \n",
       "3  USA CRIME  Someone in Alabama ought to seriously question...      False   \n",
       "4  USA CRIME  DeanPreston instead whining about USA blueange...      False   \n",
       "\n",
       "   favoriteCount        replyToSN              created  truncated  \\\n",
       "0              1  Only_rock_radio  2022-10-10 21:56:24       True   \n",
       "1              0              NaN  2022-10-10 21:09:40       True   \n",
       "2              0              NaN  2022-10-10 20:21:00       True   \n",
       "3              0              NaN  2022-10-10 18:56:52       True   \n",
       "4              0      DeanPreston  2022-10-10 15:46:33       True   \n",
       "\n",
       "     replyToSID                   id    replyToUID  \\\n",
       "0  1.579587e+18  1579591706663878656  4.913321e+09   \n",
       "1           NaN  1579579945655087104           NaN   \n",
       "2           NaN  1579567695825190917           NaN   \n",
       "3           NaN  1579546522144112642           NaN   \n",
       "4           NaN  1579498631153221634  5.924374e+07   \n",
       "\n",
       "                                        statusSource       screenName  \\\n",
       "0  <a href=\"https://mobile.twitter.com\" rel=\"nofo...    SceneCleaners   \n",
       "1  <a href=\"https://mobile.twitter.com\" rel=\"nofo...   LaydenRobinson   \n",
       "2  <a href=\"https://mobile.twitter.com\" rel=\"nofo...   MetaversePosts   \n",
       "3  <a href=\"http://twitter.com/#!/download/ipad\" ...  AlwaysVoteTruth   \n",
       "4  <a href=\"http://twitter.com/download/iphone\" r...  JohnnyU31776738   \n",
       "\n",
       "   retweetCount  isRetweet  retweeted  longitude  latitude  \\\n",
       "0             0      False      False        NaN       NaN   \n",
       "1             0      False      False        NaN       NaN   \n",
       "2             0      False      False        NaN       NaN   \n",
       "3             0      False      False        NaN       NaN   \n",
       "4             0      False      False        NaN       NaN   \n",
       "\n",
       "                                    Tweet_lemmatized  \n",
       "0  ['onlyrockradio', 'donate', 'tiorr', 'internet...  \n",
       "1  ['enjoy', 'exciting', 'account', 'realism', 'p...  \n",
       "2  ['metaverse', 'opinion', 'amp', 'politics', 'u...  \n",
       "3  ['someone', 'alabama', 'ought', 'seriously', '...  \n",
       "4  ['deanpreston', 'instead', 'whining', 'usa', '...  "
      ]
     },
     "execution_count": 101,
     "metadata": {},
     "output_type": "execute_result"
    }
   ],
   "source": [
    "#MERGE CRIME USA ANDD USA CRIME DATAFRAMES\n",
    "tweet_data_crimeusa = pd.concat([crimeusa_data, usacrime_data], axis=0)\n",
    "tweet_data_crimeusa.head()\n",
    "\n",
    "#ADD A COLUMN TO THE DATAFRAME\n",
    "tweet_data_crimeusa['label'] = 'USA CRIME'\n",
    "fbi_data['label'] = 'FBI'\n",
    "\n",
    "#REMOVE RETWEETS\n",
    "tweet_data_crimusa = tweet_data_crimeusa[~tweet_data_crimeusa['text'].str.contains('RT')]\n",
    "fbi_data = fbi_data[~fbi_data['text'].str.contains('RT')]\n",
    "\n",
    "#MERGE CLEAN TEXT COLUMN FROM CLEANED TWEET DATA WITH THE TWEET DATA\n",
    "tweet_data_crimeusa = pd.merge(tweet_data_crimeusa, cleaned_tweet_data, on='text', how='left')\n",
    "fbi_data = pd.merge(fbi_data, tweet_fbi_data, on='text', how='left')\n",
    "\n",
    "#DROP THE COLUMNS THAT ARE NOT NEEDED\n",
    "tweet_data_crimeusa = tweet_data_crimeusa.drop(['Unnamed: 0_x','Unnamed: 0_y','text','Tweet_tokenized','Tweet_without_stop','Tweet_stemmed'], axis=1)\n",
    "fbi_data = fbi_data.drop(['Unnamed: 0_x','Unnamed: 0_y','text','Tweet_tokenized','Tweet_without_stop','Tweet_stemmed'], axis=1)\n",
    "\n",
    "#REARRANGE THE COLUMNS\n",
    "tweet_data_crimeusa.insert(0, 'label', tweet_data_crimeusa.pop('label'))\n",
    "tweet_data_crimeusa.insert(1, 'clean text', tweet_data_crimeusa.pop('clean text'))\n",
    "fbi_data.insert(0, 'label', fbi_data.pop('label'))\n",
    "fbi_data.insert(1, 'clean text', fbi_data.pop('clean text'))\n",
    "\n",
    "#RENAME THE CLEAN TEXT COLUMN\n",
    "tweet_data_crimeusa = tweet_data_crimeusa.rename(columns={'clean text':'text'})\n",
    "fbi_data = fbi_data.rename(columns={'clean text':'text'})\n",
    "\n",
    "#MERGE FBI AND USA CRIME DATASETS\n",
    "tweet_data = pd.concat([tweet_data_crimeusa, fbi_data], axis=0)\n",
    "\n",
    "#REMOVE THE COLUMNS THAT ARE NOT NEEDED BEFORE EXPORTING THE DATA\n",
    "#tweet_data = tweet_data.drop(['Tweet_lemmatized'], axis=1)\n",
    "\n",
    "# HEAD OF THE DATA\n",
    "tweet_data.head()"
   ]
  },
  {
   "cell_type": "code",
   "execution_count": 102,
   "metadata": {},
   "outputs": [
    {
     "data": {
      "text/plain": [
       "Text(0, 0.5, 'Frequency')"
      ]
     },
     "execution_count": 102,
     "metadata": {},
     "output_type": "execute_result"
    },
    {
     "data": {
      "image/png": "[encoded data removed]",
      "text/plain": [
       "<Figure size 1008x576 with 1 Axes>"
      ]
     },
     "metadata": {
      "needs_background": "light"
     },
     "output_type": "display_data"
    }
   ],
   "source": [
    "#TEXT LEMMATIZED COLUMN\n",
    "df =tweet_data[['label','Tweet_lemmatized']]\n",
    "\n",
    "#REMOVE PUNCTUATION FROM TEXT LEMMATIZED COLUMN\n",
    "final_tweets=[str(i).replace(\",\",\"\").replace(\"[\",\"\").replace(\"]\",\"\").replace(\"'\",\"\") for i in df['Tweet_lemmatized']]\n",
    "\n",
    "#ADD THE FINAL TWEETS TO THE DATAFRAME\n",
    "df['final_tweets']=final_tweets\n",
    "\n",
    "#remove text lemmatized column\n",
    "#REMOVE THE COLUMNS\n",
    "df=df.drop('Tweet_lemmatized',axis=1)\n",
    "\n",
    "#COUNT THE NUMBER OF FBI AND CRIMEUSA DATA\n",
    "ax = df['label'].value_counts().plot(kind='bar',\n",
    "                                    figsize=(14,8),\n",
    "                                    title=\"Number for labels\")\n",
    "ax.set_xlabel(\"Labels\")\n",
    "ax.set_ylabel(\"Frequency\")"
   ]
  },
  {
   "cell_type": "markdown",
   "metadata": {},
   "source": [
    "The bargraph tells us about the count of the labels i.e FBI and USA CRIME. "
   ]
  },
  {
   "cell_type": "markdown",
   "metadata": {},
   "source": [
    "**Split the dataset into training and testing sets**\n",
    "\n",
    "Before the data is split into training and testing data, it is scaled and labeled, with label encoding referring to turning the labels into a numeric form so that they can be machine-readable.\n"
   ]
  },
  {
   "cell_type": "markdown",
   "metadata": {},
   "source": [
    "**Support Vector Machines(SVM)**\n",
    "\n",
    "A support vector machine, often known as an SVM, is a type of supervised machine learning model that solves problems involving two groups of categorization by employing classification techniques. When an SVM model is provided with sets of labeled training data for each category, the model is then able to classify newly encountered text.\n",
    "\n",
    "When compared to more recent algorithms such as neural networks, they have two primary advantages: increased speed and improved performance with a constrained quantity of data points (in the thousands). Because of this, the approach is ideally suited for solving problems involving the classification of text, which often involve having access to datasets containing no more than a few thousand annotated examples at most."
   ]
  },
  {
   "cell_type": "code",
   "execution_count": 95,
   "metadata": {},
   "outputs": [],
   "source": [
    "def svc_param_selection(X, y,k):\n",
    "    Cs = [ .01, 1, 5, 10]\n",
    "    param_grid = {'C': Cs}\n",
    "    grid_search = GridSearchCV(SVC(kernel=k), param_grid)\n",
    "    grid_search.fit(X, y)\n",
    "    grid_search.best_params_\n",
    "    return grid_search.best_params_\n"
   ]
  },
  {
   "cell_type": "markdown",
   "metadata": {},
   "source": [
    "**SVM with LINEAR KERNELS**\n",
    "\n",
    "When data is Linearly separable, meaning it can be partitioned along a straight line, a Linear Kernel is applied. It is one of the kernels that is utilized the most frequently. Its primary application occurs in situations where a given data set contains a significant number of features.\n",
    "\n",
    "To be more specific, the svc() function can be utilized to fit a support vector classifier provided that the argument kernel = \"linear\" is utilized. This function implements the support vector classifier with a slightly modified version of the standard formulation. With the use of a cost argument, we are able to indicate the amount of money lost due to a margin violation. When the cost argument is low, the margins will be broad, and a significant number of support vectors will either be on the margin or will violate it. When the cost argument is significant, then the margins will be low, and there will be a small number of support vectors that are either on the margin or that violate the margin. Utilizing the svc() method allows us to tailor the support vector classifier to the value that has been supplied for the cost parameter, which is denoted by the letter 'C'. For this model, the cost margin is taken as 0.5 and besides that we perform supervised machine learning (classification) on categorical data, we often use a confusion matrix to get the count of accurate and inaccurate predictions for different classes."
   ]
  },
  {
   "cell_type": "code",
   "execution_count": 96,
   "metadata": {},
   "outputs": [
    {
     "name": "stdout",
     "output_type": "stream",
     "text": [
      "              precision    recall  f1-score   support\n",
      "\n",
      "           0       0.98      0.98      0.98       178\n",
      "           1       0.98      0.98      0.98       171\n",
      "\n",
      "    accuracy                           0.98       349\n",
      "   macro avg       0.98      0.98      0.98       349\n",
      "weighted avg       0.98      0.98      0.98       349\n",
      "\n"
     ]
    },
    {
     "data": {
      "image/png": "[encoded data removed]",
      "text/plain": [
       "<Figure size 432x288 with 2 Axes>"
      ]
     },
     "metadata": {
      "needs_background": "light"
     },
     "output_type": "display_data"
    }
   ],
   "source": [
    "#set seed\n",
    "np.random.seed(26)\n",
    "#SVM MODEL WITH LINEAR KERNEL\n",
    "#GETTING THE BEST COST MARGIN\n",
    "svc_param_selection(TrainDF, TrainLabels,\"linear\")\n",
    "#PREDICT THE TEST DATA\n",
    "SVM_Model=SVC(kernel='linear', C=0.5, probability=True)\n",
    "SVM_Model.fit(TrainDF, TrainLabels)\n",
    "\n",
    "Preds_SVM1 = SVM_Model.predict(TestDF)\n",
    "Pred_Proba_SVM1 = SVM_Model.predict_proba(TestDF)\n",
    "SVM_matrix = confusion_matrix(TestLabels, Preds_SVM1)\n",
    "print(metrics.classification_report(TestLabels, Preds_SVM1))\n",
    "\n",
    "#VISUALIZE THE CONFUSION MATRIX\n",
    "labels = ['CRIME USA', 'FBI']\n",
    "ax1=plt.subplot()\n",
    "sns.heatmap(confusion_matrix(TestLabels, Preds_SVM1), annot=True, fmt='g', ax=ax1)\n",
    "\n",
    "#LABELS, TITLE AND TICKS\n",
    "ax1.set_xlabel('Predicted labels');ax1.set_ylabel('True labels')\n",
    "ax1.set_title('Confusion Matrix')\n",
    "ax1.xaxis.set_ticklabels(labels)\n",
    "ax1.yaxis.set_ticklabels(labels)\n",
    "plt.show()\n",
    "plt.close()"
   ]
  },
  {
   "cell_type": "markdown",
   "metadata": {},
   "source": [
    "From the SVM model with Linear Kernel for the Cost margin of 0.5, the classification report says that the accuracy of the model is 98%. The precision of the model is 98%, the recall is 98% and the F1 Score is 98%. The model is not overfitting as the precision and recall values are the same. The model is not underfitting because the accuracy of the model is greater than 50%. The model is not biased because the precision and recall are the same.\n"
   ]
  },
  {
   "cell_type": "markdown",
   "metadata": {},
   "source": [
    "**POLYNOMIAL KERNEL with SVM**\n",
    "\n",
    "Polynomial Kernel depicts the degree of similarity between vectors in the training set of data in a feature space over polynomials of the variables that were initially employed in the kernel.The polynomial kernel is a kernel function in machine learning that is commonly used with support vector machines (SVMs) and other kernelized models to represent the similarity of vectors (training samples) in a feature space over polynomials of the original variables and facilitate the learning of non-linear models.\n",
    "\n",
    "To be more explicit, if the input kernel = \"poly\" is used with the svc() function, a support vector classifier can be fitted. By presenting the cost of a margin violation, we may give an approximate idea of the financial damage it causes. By calling the svc() function, we can adjust the support vector classifier to the value of the cost argument (denoted by the letter C). Since we are performing supervised machine learning (classification) on categorical data, we frequently use a confusion matrix to determine the count of accurate and inaccurate predictions for distinct classes; in this model, we set the cost margin to 0.5.\n"
   ]
  },
  {
   "cell_type": "code",
   "execution_count": 97,
   "metadata": {},
   "outputs": [
    {
     "name": "stdout",
     "output_type": "stream",
     "text": [
      "              precision    recall  f1-score   support\n",
      "\n",
      "           0       1.00      0.30      0.46       178\n",
      "           1       0.58      1.00      0.73       171\n",
      "\n",
      "    accuracy                           0.64       349\n",
      "   macro avg       0.79      0.65      0.60       349\n",
      "weighted avg       0.79      0.64      0.59       349\n",
      "\n"
     ]
    },
    {
     "data": {
      "image/png": "[encoded data removed]",
      "text/plain": [
       "<Figure size 432x288 with 2 Axes>"
      ]
     },
     "metadata": {
      "needs_background": "light"
     },
     "output_type": "display_data"
    }
   ],
   "source": [
    "#set seed\n",
    "np.random.seed(2)\n",
    "#POLYNOMIAL KERNEL MODEL\n",
    "#GETTING THE BEST COST MARGIN\n",
    "svc_param_selection(TrainDF, TrainLabels,\"poly\")\n",
    "\n",
    "#POLY KERNAL, C = 0.5\n",
    "SVM_Model2=SVC(kernel='poly', C=0.5,probability=True)\n",
    "SVM_Model2.fit(TrainDF, TrainLabels)\n",
    "\n",
    "Preds_SVM2 = SVM_Model2.predict(TestDF)\n",
    "Pred_Proba_SVM2 = SVM_Model2.predict_proba(TestDF)\n",
    "SVM_matrix = confusion_matrix(TestLabels, Preds_SVM2)\n",
    "print(metrics.classification_report(TestLabels, Preds_SVM2))\n",
    "\n",
    "#VISCALIZE THE CONFUSION MATRIX\n",
    "labels = ['CRIME USA', 'FBI']\n",
    "ax1=plt.subplot()\n",
    "sns.heatmap(confusion_matrix(TestLabels, Preds_SVM2), annot=True, fmt='g', ax=ax1)\n",
    "\n",
    "#LABELS, TITLE AND TICKS\n",
    "ax1.set_xlabel('Predicted labels');ax1.set_ylabel('True labels')\n",
    "ax1.set_title('Confusion Matrix')\n",
    "ax1.xaxis.set_ticklabels(labels)\n",
    "ax1.yaxis.set_ticklabels(labels)\n",
    "plt.show()\n",
    "plt.close()"
   ]
  },
  {
   "cell_type": "markdown",
   "metadata": {},
   "source": [
    "From the SVM model with Polynomial Kernel for the Cost margin of 0.5, the classification report says that the accuracy of the model is 64%. The precision of the model is 79%, the recall is 65% and the F1 Score is 60%. In this model precision is greater than accuaracy which tells us that precoision is independent of accurary. The model is not underfitting because the accuracy of the model is greater than 50%. The model is not imbalanced because the number of data for each label is the same."
   ]
  },
  {
   "cell_type": "markdown",
   "metadata": {},
   "source": [
    "**SVM with RBF KERNELS**\n",
    "\n",
    "RBF kernels are the most generalized kind of kernelization. They are also one of the most often used kernels because of their resemblance to the Gaussian distribution, which is one of the most common distributions. It is a kernel that can be used for a variety of applications and is utilized in circumstances in which there is no prior information about the data. Specifically, it is used in cases where there is no prior knowledge about the data.\n",
    "\n",
    "To be more explicit, if the input kernel = \"rbf\" is used with the svc() function, a support vector classifier can be fitted. By presenting the cost of a margin violation, we may give an approximate idea of the financial damage it causes. By calling the svc() function, we can adjust the support vector classifier to the value of the cost argument (denoted by the letter C). Since we are performing supervised machine learning (classification) on categorical data, we frequently use a confusion matrix to determine the count of accurate and inaccurate predictions for distinct classes; in this model, we set the cost margin to 0.5."
   ]
  },
  {
   "cell_type": "code",
   "execution_count": 98,
   "metadata": {},
   "outputs": [
    {
     "name": "stdout",
     "output_type": "stream",
     "text": [
      "              precision    recall  f1-score   support\n",
      "\n",
      "           0       0.85      0.99      0.91       178\n",
      "           1       0.99      0.81      0.89       171\n",
      "\n",
      "    accuracy                           0.91       349\n",
      "   macro avg       0.92      0.90      0.90       349\n",
      "weighted avg       0.92      0.91      0.90       349\n",
      "\n"
     ]
    },
    {
     "data": {
      "image/png": "[encoded data removed]",
      "text/plain": [
       "<Figure size 432x288 with 2 Axes>"
      ]
     },
     "metadata": {
      "needs_background": "light"
     },
     "output_type": "display_data"
    }
   ],
   "source": [
    "#set seed\n",
    "np.random.seed(2)\n",
    "#RBF MODEL\n",
    "#GETTING THE BEST COST MARGIN\n",
    "svc_param_selection(TrainDF, TrainLabels,\"rbf\")\n",
    "\n",
    "# RBF Kernal - C = 0.5\n",
    "SVM_Model3=SVC(kernel='rbf', C=0.5,probability=True)\n",
    "SVM_Model3.fit(TrainDF, TrainLabels)\n",
    "\n",
    "Preds_SVM3 = SVM_Model3.predict(TestDF)\n",
    "Pred_Proba_SVM3 = SVM_Model3.predict_proba(TestDF)\n",
    "SVM_matrix3 = confusion_matrix(TestLabels, Preds_SVM3)\n",
    "print(metrics.classification_report(TestLabels, Preds_SVM3))\n",
    "\n",
    "#VISUALIZE THE CONFUSION MATRIX\n",
    "labels = ['CRIME USA', 'FBI']\n",
    "ax1=plt.subplot()\n",
    "sns.heatmap(confusion_matrix(TestLabels, Preds_SVM3), annot=True, fmt='g', ax=ax1)\n",
    "\n",
    "#LABELS, TITLE AND TICKS\n",
    "ax1.set_xlabel('Predicted labels');ax1.set_ylabel('True labels')\n",
    "ax1.set_title('Confusion Matrix')\n",
    "ax1.xaxis.set_ticklabels(labels) \n",
    "ax1.yaxis.set_ticklabels(labels)\n",
    "plt.show()\n",
    "plt.close()"
   ]
  },
  {
   "cell_type": "markdown",
   "metadata": {},
   "source": [
    "From the SVM model with RBF Kernel for the Cost margin of 0.5, the classification report says that the accuracy of the model is 91%. The precision of the model is 92%, the recall is 90% and the F1 Score is 90%. The model is not overfitting as the precision and recall values are the same. The model is not underfitting because the accuracy of the model is greater than 50%. The model is not biased because the precision and recall are the same. "
   ]
  },
  {
   "cell_type": "markdown",
   "metadata": {},
   "source": [
    "**CONCLUSION**\n",
    "\n",
    "The SVM model was used to classify tweets that were generated from Twitter into the respective hashtag classes (FBI and USA CRIME) of other tweets. When it comes to determining the category, the models have an accuracy ranging from 64% to 98%, which is considered to be rather high. The model is able to make predictions about the tweets or to categorize them into different groups thanks to the collection of terms. The linear model are the most appropriate representations of these data since they account for 98% of the variance. "
   ]
  }
 ],
 "metadata": {
  "kernelspec": {
   "display_name": "Python 3.9.12 ('base')",
   "language": "python",
   "name": "python3"
  },
  "language_info": {
   "codemirror_mode": {
    "name": "ipython",
    "version": 3
   },
   "file_extension": ".py",
   "mimetype": "text/x-python",
   "name": "python",
   "nbconvert_exporter": "python",
   "pygments_lexer": "ipython3",
   "version": "3.9.12"
  },
  "orig_nbformat": 4,
  "vscode": {
   "interpreter": {
    "hash": "24ba46beb313b9555178920ef28f4f148da0f98d1924e88576847d16eb21e478"
   }
  }
 },
 "nbformat": 4,
 "nbformat_minor": 2
}
