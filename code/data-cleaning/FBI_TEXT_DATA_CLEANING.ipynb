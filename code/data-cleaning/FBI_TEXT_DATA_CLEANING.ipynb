{
 "cells": [
  {
   "cell_type": "code",
   "execution_count": 2,
   "metadata": {},
   "outputs": [
    {
     "name": "stderr",
     "output_type": "stream",
     "text": [
      "[nltk_data] Downloading package stopwords to\n",
      "[nltk_data]     /Users/chaitanyashekar/nltk_data...\n",
      "[nltk_data]   Package stopwords is already up-to-date!\n",
      "[nltk_data] Downloading package wordnet to\n",
      "[nltk_data]     /Users/chaitanyashekar/nltk_data...\n",
      "[nltk_data]   Package wordnet is already up-to-date!\n",
      "[nltk_data] Downloading package omw-1.4 to\n",
      "[nltk_data]     /Users/chaitanyashekar/nltk_data...\n",
      "[nltk_data]   Package omw-1.4 is already up-to-date!\n",
      "/Users/chaitanyashekar/opt/anaconda3/lib/python3.9/site-packages/sklearn/utils/deprecation.py:87: FutureWarning: Function get_feature_names is deprecated; get_feature_names is deprecated in 1.0 and will be removed in 1.2. Please use get_feature_names_out instead.\n",
      "  warnings.warn(msg, category=FutureWarning)\n"
     ]
    }
   ],
   "source": [
    "import pandas as pd\n",
    "import numpy as np\n",
    "import seaborn as sns\n",
    "import matplotlib.pyplot as plt\n",
    "from sklearn.feature_extraction.text import CountVectorizer\n",
    "import nltk \n",
    "import string\n",
    "import re\n",
    "get_ipython().run_line_magic('matplotlib', 'inline')\n",
    "\n",
    "#read in the data\n",
    "tweet_data = pd.read_csv('../../data/raw-data/R_FBI_TEXT_DATA.csv')\n",
    "\n",
    "#Column names\n",
    "tweet_data.columns\n",
    "\n",
    "#text data cleaning\n",
    "#text data\n",
    "tweet_data = tweet_data[['text']]\n",
    "\n",
    "#replace # by space\n",
    "def replace_hashtag(text):\n",
    "    text = re.sub(r'#', ' ', text)\n",
    "    return text\n",
    "\n",
    "#remove punctuation\n",
    "def remove_punct(text):\n",
    "    text  = \"\".join([char for char in text if char not in string.punctuation])\n",
    "    text = re.sub('[0-9]+','', text) #removes numbers from text\n",
    "    return text\n",
    "tweet_data['clean text']=tweet_data['text'].apply(lambda x: remove_punct(x))\n",
    "\n",
    "#tokenization\n",
    "def tokenization(text):\n",
    "    text = re.split('\\W+', text) #splitting each sentence/ tweet into its individual words\n",
    "    return text\n",
    "\n",
    "tweet_data['Tweet_tokenized'] = tweet_data['clean text'].apply(lambda x: tokenization(x.lower()))\n",
    "\n",
    "#remove retweets\n",
    "tweet_data = tweet_data[~tweet_data['text'].str.contains('RT')]\n",
    "\n",
    "#remove stopwords\n",
    "nltk.download('stopwords')\n",
    "stopwords = nltk.corpus.stopwords.words('english')\n",
    "stopwords\n",
    "def remove_stopwords(text):\n",
    "    text = [word for word in text if word not in stopwords]\n",
    "    return text\n",
    "   \n",
    "tweet_data['Tweet_without_stop'] = tweet_data['Tweet_tokenized'].apply(lambda x: remove_stopwords(x))\n",
    "\n",
    "#stemming\n",
    "ps = nltk.PorterStemmer()\n",
    "def stemming(text):\n",
    "    text = [ps.stem(word) for word in text]\n",
    "    return text\n",
    "tweet_data['Tweet_stemmed'] = tweet_data['Tweet_without_stop'].apply(lambda x: stemming(x))\n",
    "\n",
    "nltk.download('wordnet')\n",
    "nltk.download('omw-1.4')\n",
    "wordnet = nltk.WordNetLemmatizer()\n",
    "\n",
    "#lemmatizations\n",
    "def lemmatizer(text):\n",
    "    text = [wordnet.lemmatize(word) for word in text]\n",
    "    return text\n",
    "\n",
    "tweet_data['Tweet_lemmatized'] = tweet_data['Tweet_without_stop'].apply(lambda x: lemmatizer(x))\n",
    "\n",
    "#Count Vectorizer\n",
    "from random import sample\n",
    "clean_tweets=list(set(tweet_data['clean text']))\n",
    "sample=sample(clean_tweets,20)\n",
    "from sklearn.feature_extraction.text import CountVectorizer\n",
    "vectorizer = CountVectorizer()\n",
    "X = vectorizer.fit_transform(sample)\n",
    "vectorizer.get_feature_names()\n",
    "count_vect_df = pd.DataFrame(X.toarray(), columns=vectorizer.get_feature_names())\n",
    "\n",
    "##exporting the cleaned data to a csv file\n",
    "tweet_data.to_csv('../../data/modified-data/cleaned_fbi_text_data.csv', index=False)"
   ]
  }
 ],
 "metadata": {
  "kernelspec": {
   "display_name": "Python 3.9.12 ('base')",
   "language": "python",
   "name": "python3"
  },
  "language_info": {
   "codemirror_mode": {
    "name": "ipython",
    "version": 3
   },
   "file_extension": ".py",
   "mimetype": "text/x-python",
   "name": "python",
   "nbconvert_exporter": "python",
   "pygments_lexer": "ipython3",
   "version": "3.9.12"
  },
  "orig_nbformat": 4,
  "vscode": {
   "interpreter": {
    "hash": "24ba46beb313b9555178920ef28f4f148da0f98d1924e88576847d16eb21e478"
   }
  }
 },
 "nbformat": 4,
 "nbformat_minor": 2
}
